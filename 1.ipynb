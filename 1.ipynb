{
 "cells": [
  {
   "cell_type": "code",
   "execution_count": 4,
   "metadata": {},
   "outputs": [
    {
     "name": "stderr",
     "output_type": "stream",
     "text": [
      "WARNING:absl:Compiled the loaded model, but the compiled metrics have yet to be built. `model.compile_metrics` will be empty until you train or evaluate the model.\n"
     ]
    },
    {
     "name": "stdout",
     "output_type": "stream",
     "text": [
      "Model successfully converted to PKL format.\n"
     ]
    }
   ],
   "source": [
    "import tensorflow as tf\n",
    "from keras.models import load_model\n",
    "import joblib\n",
    "\n",
    "# Load the Keras model from H5 file\n",
    "model = load_model(\"asl_detection_model.h5\")\n",
    "\n",
    "# Get the model's architecture\n",
    "model_architecture = model.to_json()\n",
    "\n",
    "# Get the model's weights\n",
    "model_weights = model.get_weights()\n",
    "\n",
    "# Create a dictionary to store the architecture and weights\n",
    "model_dict = {\n",
    "    \"architecture\": model_architecture,\n",
    "    \"weights\": model_weights\n",
    "}\n",
    "\n",
    "# Save the dictionary to a pickle file\n",
    "with open(\"asl_detection_model.pkl\", \"wb\") as pkl_file:\n",
    "    joblib.dump(model_dict, pkl_file)\n",
    "\n",
    "print(\"Model successfully converted to PKL format.\")\n"
   ]
  },
  {
   "cell_type": "code",
   "execution_count": 7,
   "metadata": {},
   "outputs": [
    {
     "ename": "AttributeError",
     "evalue": "'dict' object has no attribute 'signatures'",
     "output_type": "error",
     "traceback": [
      "\u001b[0;31m---------------------------------------------------------------------------\u001b[0m",
      "\u001b[0;31mAttributeError\u001b[0m                            Traceback (most recent call last)",
      "Cell \u001b[0;32mIn[7], line 4\u001b[0m\n\u001b[1;32m      2\u001b[0m \u001b[38;5;28;01mimport\u001b[39;00m \u001b[38;5;21;01mjoblib\u001b[39;00m\n\u001b[1;32m      3\u001b[0m model \u001b[38;5;241m=\u001b[39m joblib\u001b[38;5;241m.\u001b[39mload(\u001b[38;5;124m\"\u001b[39m\u001b[38;5;124m/home/kushagra/Documents/code/AI/project/asl_recognisation/asl_detection_model.pkl\u001b[39m\u001b[38;5;124m\"\u001b[39m)\n\u001b[0;32m----> 4\u001b[0m signatures \u001b[38;5;241m=\u001b[39m \u001b[38;5;28mlist\u001b[39m(\u001b[43mmodel\u001b[49m\u001b[38;5;241;43m.\u001b[39;49m\u001b[43msignatures\u001b[49m\u001b[38;5;241m.\u001b[39mkeys())\n\u001b[1;32m      5\u001b[0m \u001b[38;5;28mprint\u001b[39m(\u001b[38;5;124m\"\u001b[39m\u001b[38;5;124mModel signatures:\u001b[39m\u001b[38;5;124m\"\u001b[39m, signatures)\n",
      "\u001b[0;31mAttributeError\u001b[0m: 'dict' object has no attribute 'signatures'"
     ]
    }
   ],
   "source": [
    "import tensorflow as tf\n",
    "import joblib\n",
    "model = joblib.load(\"/home/kushagra/Documents/code/AI/project/asl_recognisation/asl_detection_model.pkl\")\n",
    "signatures = list(model.signatures.keys())\n",
    "print(\"Model signatures:\", signatures)\n"
   ]
  }
 ],
 "metadata": {
  "kernelspec": {
   "display_name": ".venv",
   "language": "python",
   "name": "python3"
  },
  "language_info": {
   "codemirror_mode": {
    "name": "ipython",
    "version": 3
   },
   "file_extension": ".py",
   "mimetype": "text/x-python",
   "name": "python",
   "nbconvert_exporter": "python",
   "pygments_lexer": "ipython3",
   "version": "3.12.3"
  }
 },
 "nbformat": 4,
 "nbformat_minor": 2
}
