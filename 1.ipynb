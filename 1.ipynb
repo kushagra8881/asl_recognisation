{
 "cells": [
  {
   "cell_type": "code",
   "execution_count": 4,
   "metadata": {},
   "outputs": [
    {
     "name": "stderr",
     "output_type": "stream",
     "text": [
      "WARNING:absl:Compiled the loaded model, but the compiled metrics have yet to be built. `model.compile_metrics` will be empty until you train or evaluate the model.\n"
     ]
    },
    {
     "name": "stdout",
     "output_type": "stream",
     "text": [
      "Model successfully converted to PKL format.\n"
     ]
    }
   ],
   "source": [
    "import tensorflow as tf\n",
    "from keras.models import load_model\n",
    "import joblib\n",
    "\n",
    "# Load the Keras model from H5 file\n",
    "model = load_model(\"asl_detection_model.h5\")\n",
    "\n",
    "# Get the model's architecture\n",
    "model_architecture = model.to_json()\n",
    "\n",
    "# Get the model's weights\n",
    "model_weights = model.get_weights()\n",
    "\n",
    "# Create a dictionary to store the architecture and weights\n",
    "model_dict = {\n",
    "    \"architecture\": model_architecture,\n",
    "    \"weights\": model_weights\n",
    "}\n",
    "\n",
    "# Save the dictionary to a pickle file\n",
    "with open(\"asl_detection_model.pkl\", \"wb\") as pkl_file:\n",
    "    joblib.dump(model_dict, pkl_file)\n",
    "\n",
    "print(\"Model successfully converted to PKL format.\")\n"
   ]
  },
  {
   "cell_type": "code",
   "execution_count": 3,
   "metadata": {},
   "outputs": [
    {
     "name": "stdout",
     "output_type": "stream",
     "text": [
      "Model configuration saved to model_config.json\n"
     ]
    }
   ],
   "source": [
    "import json\n",
    "from tensorflow.keras.models import Sequential\n",
    "from tensorflow.keras.layers import Conv2D, MaxPooling2D, Dropout, Flatten, Reshape, LSTM, Dense\n",
    "\n",
    "# Define the model\n",
    "model = Sequential()\n",
    "\n",
    "model.add(Conv2D(filters=64, kernel_size=5, padding='same', activation='relu', input_shape=(64, 64, 3)))\n",
    "model.add(Conv2D(filters=64, kernel_size=5, padding='same', activation='relu'))\n",
    "model.add(MaxPooling2D(pool_size=(4, 4)))\n",
    "model.add(Dropout(0.5))\n",
    "model.add(Conv2D(filters=128, kernel_size=5, padding='same', activation='relu'))\n",
    "model.add(Conv2D(filters=128, kernel_size=5, padding='same', activation='relu'))\n",
    "model.add(MaxPooling2D(pool_size=(4, 4)))\n",
    "model.add(Dropout(0.5))\n",
    "model.add(Conv2D(filters=256, kernel_size=5, padding='same', activation='relu'))\n",
    "model.add(Dropout(0.5))\n",
    "model.add(Flatten())\n",
    "model.add(Reshape((1, 256 * 4 * 4)))\n",
    "model.add(LSTM(128, dropout=0.5, return_sequences=False))\n",
    "model.add(Dropout(0.5))\n",
    "model.add(Dense(29, activation='softmax'))\n",
    "\n",
    "# Compile the model\n",
    "model.compile(optimizer='adam', loss='categorical_crossentropy', metrics=['accuracy'])\n",
    "\n",
    "# Save the model architecture and compile information to JSON format\n",
    "model_config = {\n",
    "    \"model_architecture\": model.to_json(),\n",
    "    \"model_compile\": {\n",
    "        \"optimizer\": model.optimizer.get_config(),\n",
    "        \"loss\": model.loss,\n",
    "        \"metrics\": model.metrics_names\n",
    "    }\n",
    "}\n",
    "\n",
    "with open(\"model_config.json\", \"w\") as json_file:\n",
    "    json.dump(model_config, json_file, indent=4)\n",
    "\n",
    "print(\"Model configuration saved to model_config.json\")\n"
   ]
  }
 ],
 "metadata": {
  "kernelspec": {
   "display_name": ".venv",
   "language": "python",
   "name": "python3"
  },
  "language_info": {
   "codemirror_mode": {
    "name": "ipython",
    "version": 3
   },
   "file_extension": ".py",
   "mimetype": "text/x-python",
   "name": "python",
   "nbconvert_exporter": "python",
   "pygments_lexer": "ipython3",
   "version": "3.12.3"
  }
 },
 "nbformat": 4,
 "nbformat_minor": 2
}
